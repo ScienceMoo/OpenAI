{
 "cells": [
  {
   "cell_type": "markdown",
   "metadata": {},
   "source": [
    "## 1. Tokenization\n",
    "\n",
    "Tokenization refers to converting a text string into individual tokens. Tokens may be words or punctations"
   ]
  },
  {
   "cell_type": "code",
   "execution_count": 1,
   "metadata": {
    "tags": []
   },
   "outputs": [
    {
     "name": "stdout",
     "output_type": "stream",
     "text": [
      "Token List :  ['ABANDON', 'ALL', 'HOPE', 'YE', 'WHO', 'ENTER', 'HERE', 'is', 'scrawled', 'in', 'blood', 'red', 'lettering', 'on', 'the', 'side', 'of', 'the', 'Chemical', 'Bank']\n",
      "\n",
      " Total Tokens :  374\n"
     ]
    }
   ],
   "source": [
    "import nltk\n",
    "import os\n",
    "\n",
    "\n",
    "#Read the base file into a raw text variable\n",
    "base_file = open(os.getcwd()+ \"/example.txt\", 'rt')\n",
    "raw_text = base_file.read()\n",
    "base_file.close()\n",
    "\n",
    "#Extract tokens\n",
    "token_list = nltk.word_tokenize(raw_text)\n",
    "print(\"Token List : \",token_list[:20])\n",
    "print(\"\\n Total Tokens : \",len(token_list))"
   ]
  },
  {
   "cell_type": "markdown",
   "metadata": {},
   "source": [
    "## 2. Cleansing Text\n",
    "\n",
    "We will see examples of removing punctuation and converting to lower case\n",
    "\n",
    "#### Remove Punctuation"
   ]
  },
  {
   "cell_type": "code",
   "execution_count": 2,
   "metadata": {
    "tags": []
   },
   "outputs": [
    {
     "name": "stdout",
     "output_type": "stream",
     "text": [
      "Token List after removing punctuation :  ['ABANDON', 'ALL', 'HOPE', 'YE', 'WHO', 'ENTER', 'HERE', 'is', 'scrawled', 'in', 'blood', 'red', 'lettering', 'on', 'the', 'side', 'of', 'the', 'Chemical', 'Bank']\n",
      "\n",
      "Total tokens after removing punctuation :  316\n"
     ]
    }
   ],
   "source": [
    "#Use the Punkt library to extract tokens\n",
    "token_list2 = list(filter(lambda token: nltk.tokenize.punkt.PunktToken(token).is_non_punct, token_list))\n",
    "print(\"Token List after removing punctuation : \",token_list2[:20])\n",
    "print(\"\\nTotal tokens after removing punctuation : \", len(token_list2))"
   ]
  },
  {
   "cell_type": "markdown",
   "metadata": {},
   "source": [
    "#### Convert to Lower Case"
   ]
  },
  {
   "cell_type": "code",
   "execution_count": 3,
   "metadata": {
    "tags": []
   },
   "outputs": [
    {
     "name": "stdout",
     "output_type": "stream",
     "text": [
      "Token list after converting to lower case :  ['abandon', 'all', 'hope', 'ye', 'who', 'enter', 'here', 'is', 'scrawled', 'in', 'blood', 'red', 'lettering', 'on', 'the', 'side', 'of', 'the', 'chemical', 'bank']\n",
      "\n",
      "Total tokens after converting to lower case :  316\n"
     ]
    }
   ],
   "source": [
    "token_list3=[word.lower() for word in token_list2 ]\n",
    "print(\"Token list after converting to lower case : \", token_list3[:20])\n",
    "print(\"\\nTotal tokens after converting to lower case : \", len(token_list3))"
   ]
  },
  {
   "cell_type": "markdown",
   "metadata": {},
   "source": [
    "## 3. Stop word Removal\n",
    "\n",
    "Removing stop words by using a standard stop word list available in NLTK for English"
   ]
  },
  {
   "cell_type": "code",
   "execution_count": 4,
   "metadata": {
    "tags": []
   },
   "outputs": [
    {
     "name": "stdout",
     "output_type": "stream",
     "text": [
      "Token list after removing stop words :  ['abandon', 'hope', 'ye', 'enter', 'scrawled', 'blood', 'red', 'lettering', 'side', 'chemical', 'bank', 'near', 'corner', 'eleventh', 'first', 'print', 'large', 'enough', 'seen', 'backseat']\n",
      "\n",
      "Total tokens after removing stop words :  155\n"
     ]
    },
    {
     "name": "stderr",
     "output_type": "stream",
     "text": [
      "[nltk_data] Downloading package stopwords to /Users/moo/nltk_data...\n",
      "[nltk_data]   Package stopwords is already up-to-date!\n"
     ]
    }
   ],
   "source": [
    "#Download the standard stopword list\n",
    "nltk.download('stopwords')\n",
    "from nltk.corpus import stopwords\n",
    "\n",
    "#Remove stopwords\n",
    "token_list4 = list(filter(lambda token: token not in stopwords.words('english'), token_list3))\n",
    "print(\"Token list after removing stop words : \", token_list4[:20])\n",
    "print(\"\\nTotal tokens after removing stop words : \", len(token_list4))"
   ]
  },
  {
   "cell_type": "markdown",
   "metadata": {},
   "source": [
    "## 4. Stemming"
   ]
  },
  {
   "cell_type": "code",
   "execution_count": 5,
   "metadata": {
    "tags": []
   },
   "outputs": [
    {
     "name": "stdout",
     "output_type": "stream",
     "text": [
      "Token list after stemming :  ['abandon', 'hope', 'ye', 'enter', 'scrawl', 'blood', 'red', 'letter', 'side', 'chemic', 'bank', 'near', 'corner', 'eleventh', 'first', 'print', 'larg', 'enough', 'seen', 'backseat']\n",
      "\n",
      "Total tokens after Stemming :  155\n"
     ]
    }
   ],
   "source": [
    "#Use the PorterStemmer library for stemming.\n",
    "from nltk.stem import PorterStemmer\n",
    "stemmer = PorterStemmer()\n",
    "\n",
    "#Stem data\n",
    "token_list5 = [stemmer.stem(word) for word in token_list4 ]\n",
    "print(\"Token list after stemming : \", token_list5[:20])\n",
    "print(\"\\nTotal tokens after Stemming : \", len(token_list5))"
   ]
  },
  {
   "cell_type": "markdown",
   "metadata": {},
   "source": [
    "## 5. Lemmatization"
   ]
  },
  {
   "cell_type": "code",
   "execution_count": 6,
   "metadata": {
    "tags": []
   },
   "outputs": [
    {
     "name": "stderr",
     "output_type": "stream",
     "text": [
      "[nltk_data] Downloading package wordnet to /Users/moo/nltk_data...\n",
      "[nltk_data]   Package wordnet is already up-to-date!\n"
     ]
    },
    {
     "name": "stdout",
     "output_type": "stream",
     "text": [
      "Token list after Lemmatization :  ['abandon', 'hope', 'ye', 'enter', 'scrawled', 'blood', 'red', 'lettering', 'side', 'chemical', 'bank', 'near', 'corner', 'eleventh', 'first', 'print', 'large', 'enough', 'seen', 'backseat']\n",
      "\n",
      "Total tokens after Lemmatization :  155\n"
     ]
    }
   ],
   "source": [
    "#Use the wordnet library to map words to their lemmatized form\n",
    "nltk.download('wordnet')\n",
    "from nltk.stem import WordNetLemmatizer\n",
    "\n",
    "lemmatizer = WordNetLemmatizer()\n",
    "token_list6 = [lemmatizer.lemmatize(word) for word in token_list4 ]\n",
    "print(\"Token list after Lemmatization : \", token_list6[:20])\n",
    "print(\"\\nTotal tokens after Lemmatization : \", len(token_list6))"
   ]
  },
  {
   "cell_type": "markdown",
   "metadata": {},
   "source": [
    "#### Comparison of tokens between raw, stemming and lemmatization"
   ]
  },
  {
   "cell_type": "code",
   "execution_count": 7,
   "metadata": {
    "tags": []
   },
   "outputs": [
    {
     "name": "stdout",
     "output_type": "stream",
     "text": [
      "Raw :  chemical  , Stemmed :  chemic  , Lemmatized :  chemical\n"
     ]
    }
   ],
   "source": [
    "#Check for token technlogies\n",
    "print( \"Raw : \", token_list4[9],\" , Stemmed : \", token_list5[9], \" , Lemmatized : \", token_list6[9])\n"
   ]
  },
  {
   "cell_type": "markdown",
   "metadata": {},
   "source": [
    "## 6. N-Gram Extraction\n",
    "\n",
    "Extract bigrams, trigrams, etc., which can provide context by considering multiple words together."
   ]
  },
  {
   "cell_type": "code",
   "execution_count": 16,
   "metadata": {
    "tags": []
   },
   "outputs": [
    {
     "name": "stdout",
     "output_type": "stream",
     "text": [
      "Bigrams: [('abandon', 'hope'), ('hope', 'ye'), ('ye', 'enter'), ('enter', 'scrawled'), ('scrawled', 'blood'), ('blood', 'red'), ('red', 'lettering'), ('lettering', 'side'), ('side', 'chemical'), ('chemical', 'bank')]\n"
     ]
    },
    {
     "data": {
      "image/png": "[encoded data removed]",
      "text/plain": [
       "<Figure size 1000x500 with 1 Axes>"
      ]
     },
     "metadata": {},
     "output_type": "display_data"
    }
   ],
   "source": [
    "from nltk.util import ngrams\n",
    "import matplotlib.pyplot as plt\n",
    "\n",
    "bigrams = list(ngrams(token_list6, 2))  # change 2 to 3 for trigrams etc.\n",
    "print(\"Bigrams:\", bigrams[:10])\n",
    "\n",
    "# Find the frequency distribution of bigrams\n",
    "bigram_freq = nltk.FreqDist(bigrams)\n",
    "\n",
    "# Plot the most common bigrams\n",
    "plt.figure(figsize=(10, 5))\n",
    "bigram_freq.plot(10, title=\"Top 10 Most Common Bigrams after removing stopwords and punctuation\")\n",
    "plt.show()"
   ]
  },
  {
   "cell_type": "markdown",
   "metadata": {
    "tags": []
   },
   "source": [
    "## 7. Part-of-Speech Tagging\n",
    "\n",
    "Tag tokens based on their part of speech (e.g., noun, verb)."
   ]
  },
  {
   "cell_type": "code",
   "execution_count": 9,
   "metadata": {
    "tags": []
   },
   "outputs": [
    {
     "name": "stdout",
     "output_type": "stream",
     "text": [
      "POS Tags: [('abandon', 'NNS'), ('hope', 'VBP'), ('ye', 'RB'), ('enter', 'RB'), ('scrawled', 'VBN'), ('blood', 'NN'), ('red', 'JJ'), ('lettering', 'JJ'), ('side', 'NN'), ('chemical', 'NN')]\n"
     ]
    },
    {
     "name": "stderr",
     "output_type": "stream",
     "text": [
      "[nltk_data] Downloading package averaged_perceptron_tagger to\n",
      "[nltk_data]     /Users/moo/nltk_data...\n",
      "[nltk_data]   Package averaged_perceptron_tagger is already up-to-\n",
      "[nltk_data]       date!\n"
     ]
    }
   ],
   "source": [
    "nltk.download('averaged_perceptron_tagger')\n",
    "pos_tags = nltk.pos_tag(token_list6)\n",
    "print(\"POS Tags:\", pos_tags[:10])"
   ]
  },
  {
   "cell_type": "markdown",
   "metadata": {},
   "source": [
    "## 8. Named Entity Recognition (NER)\n",
    "\n",
    "Identify entities like persons, organizations, and locations."
   ]
  },
  {
   "cell_type": "code",
   "execution_count": 10,
   "metadata": {
    "tags": []
   },
   "outputs": [
    {
     "name": "stdout",
     "output_type": "stream",
     "text": [
      "Named Entities: []\n"
     ]
    },
    {
     "name": "stderr",
     "output_type": "stream",
     "text": [
      "[nltk_data] Downloading package maxent_ne_chunker to\n",
      "[nltk_data]     /Users/moo/nltk_data...\n",
      "[nltk_data]   Package maxent_ne_chunker is already up-to-date!\n",
      "[nltk_data] Downloading package words to /Users/moo/nltk_data...\n",
      "[nltk_data]   Package words is already up-to-date!\n"
     ]
    }
   ],
   "source": [
    "nltk.download('maxent_ne_chunker')\n",
    "nltk.download('words')\n",
    "tree = nltk.ne_chunk(pos_tags)\n",
    "named_entities = []\n",
    "for subtree in tree.subtrees(filter=lambda t: t.label() == 'NE'):\n",
    "    named_entities.append(' '.join(c[0] for c in subtree.leaves()))\n",
    "print(\"Named Entities:\", named_entities)"
   ]
  },
  {
   "cell_type": "markdown",
   "metadata": {},
   "source": [
    "## 9. Sentiment Analysis\n",
    "\n",
    "Identify the sentiment or tone of the text."
   ]
  },
  {
   "cell_type": "code",
   "execution_count": 11,
   "metadata": {
    "tags": []
   },
   "outputs": [
    {
     "name": "stdout",
     "output_type": "stream",
     "text": [
      "Sentiment Scores: {'neg': 0.112, 'neu': 0.797, 'pos': 0.091, 'compound': -0.8505}\n"
     ]
    },
    {
     "name": "stderr",
     "output_type": "stream",
     "text": [
      "[nltk_data] Downloading package vader_lexicon to\n",
      "[nltk_data]     /Users/moo/nltk_data...\n",
      "[nltk_data]   Package vader_lexicon is already up-to-date!\n"
     ]
    }
   ],
   "source": [
    "from nltk.sentiment import SentimentIntensityAnalyzer\n",
    "nltk.download('vader_lexicon')\n",
    "\n",
    "sia = SentimentIntensityAnalyzer()\n",
    "sentiment = sia.polarity_scores(raw_text)\n",
    "print(\"Sentiment Scores:\", sentiment)"
   ]
  },
  {
   "cell_type": "code",
   "execution_count": null,
   "metadata": {},
   "outputs": [],
   "source": []
  }
 ],
 "metadata": {
  "kernelspec": {
   "display_name": "Python 3 (ipykernel)",
   "language": "python",
   "name": "python3"
  },
  "language_info": {
   "codemirror_mode": {
    "name": "ipython",
    "version": 3
   },
   "file_extension": ".py",
   "mimetype": "text/x-python",
   "name": "python",
   "nbconvert_exporter": "python",
   "pygments_lexer": "ipython3",
   "version": "3.11.4"
  }
 },
 "nbformat": 4,
 "nbformat_minor": 4
}
